{
 "cells": [
  {
   "cell_type": "code",
   "execution_count": 67,
   "metadata": {},
   "outputs": [],
   "source": [
    "import pandas as pd\n",
    "import numpy as np\n",
    "from scipy.sparse import csr_matrix\n",
    "from sklearn.neighbors import NearestNeighbors"
   ]
  },
  {
   "cell_type": "code",
   "execution_count": 123,
   "metadata": {},
   "outputs": [
    {
     "name": "stderr",
     "output_type": "stream",
     "text": [
      "/var/folders/rb/2synj62156l50xph3x3mq46m0000gn/T/ipykernel_41265/2326110046.py:1: DtypeWarning: Columns (3) have mixed types. Specify dtype option on import or set low_memory=False.\n",
      "  books = pd.read_csv('datasets/Books.csv')\n"
     ]
    }
   ],
   "source": [
    "books = pd.read_csv('datasets/Books.csv')\n",
    "ratings = pd.read_csv('datasets/Ratings.csv')\n",
    "users = pd.read_csv('datasets/Users.csv')"
   ]
  },
  {
   "cell_type": "code",
   "execution_count": 108,
   "metadata": {},
   "outputs": [],
   "source": [
    "books.dropna(inplace=True)\n",
    "books['Year-Of-Publication'] = books['Year-Of-Publication'].astype('int64')\n",
    "dataset = pd.merge(ratings, books, on=\"ISBN\")\n",
    "dataset.drop(columns=['Image-URL-S','Image-URL-M','Image-URL-L'],inplace=True)"
   ]
  },
  {
   "cell_type": "code",
   "execution_count": 109,
   "metadata": {},
   "outputs": [],
   "source": [
    "dataset['Book-Rating'] /= 2\n",
    "dataset = dataset[dataset['Book-Rating'] != 0]\n",
    "dataset['Book-Rating'] -= 3"
   ]
  },
  {
   "cell_type": "code",
   "execution_count": 110,
   "metadata": {},
   "outputs": [],
   "source": [
    "popularity_threshold = 10\n",
    "data = (dataset.groupby(by = ['Book-Title'])['Book-Rating'].count().reset_index().\n",
    "        rename(columns = {'Book-Rating': 'Total-Rating'})[['Book-Title', 'Total-Rating']])\n",
    "\n",
    "result = pd.merge(data, dataset, on='Book-Title')\n",
    "result = result[result['Total-Rating'] >= popularity_threshold]\n",
    "result = result.reset_index(drop = True)\n",
    "\n",
    "matrix = result.pivot_table(index = 'Book-Title', columns = 'User-ID', values = 'Book-Rating').fillna(0)\n",
    "up_matrix = csr_matrix(matrix)"
   ]
  },
  {
   "cell_type": "code",
   "execution_count": 130,
   "metadata": {},
   "outputs": [],
   "source": [
    "model = NearestNeighbors(metric = 'cosine', algorithm = 'brute')\n",
    "model.fit(up_matrix)\n",
    "def recommend_books(user_ratings: dict, k: int) -> list:\n",
    "    avg_embedding = np.zeros((up_matrix.shape[1],))\n",
    "    for book, rating in user_ratings.items():\n",
    "        avg_embedding += matrix.loc[book].values * (rating-3)\n",
    "    avg_embedding /= len(user_ratings)\n",
    "    distances, indices = model.kneighbors(avg_embedding.reshape(1, -1), n_neighbors = k+1)\n",
    "    result = []\n",
    "    for i in range(0, len(distances.flatten())):\n",
    "        if i > 0:\n",
    "            name = matrix.index[indices.flatten()[i]]\n",
    "            if name not in user_ratings:\n",
    "                result.append(name)\n",
    "    return result"
   ]
  },
  {
   "cell_type": "code",
   "execution_count": 132,
   "metadata": {},
   "outputs": [
    {
     "name": "stdout",
     "output_type": "stream",
     "text": [
      "Harry Potter and the Chamber of Secrets (Book 2)\n",
      "Harry Potter and the Prisoner of Azkaban (Book 3)\n",
      "Harry Potter and the Goblet of Fire (Book 4)\n",
      "Harry Potter and the Order of the Phoenix (Book 5)\n",
      "The Return of the King (The Lord of The Rings, Part 3)\n",
      "The Two Towers (The Lord of the Rings, Part 2)\n",
      "The Fellowship of the Ring (The Lord of the Rings, Part 1)\n",
      "The Black Cauldron (Chronicles of Prydain (Paperback))\n",
      "Dune Messiah (Dune Chronicles, Book 2)\n"
     ]
    }
   ],
   "source": [
    "user_ratings = {'The Hobbit: or There and Back Again': 4,\n",
    "                 \"Harry Potter and the Sorcerer's Stone (Book 1)\": 5}\n",
    "recommended_number = 10\n",
    "\n",
    "print(*recommend_books(user_ratings, recommended_number), sep='\\n')\n"
   ]
  }
 ],
 "metadata": {
  "kernelspec": {
   "display_name": "Python 3.10.5 64-bit",
   "language": "python",
   "name": "python3"
  },
  "language_info": {
   "codemirror_mode": {
    "name": "ipython",
    "version": 3
   },
   "file_extension": ".py",
   "mimetype": "text/x-python",
   "name": "python",
   "nbconvert_exporter": "python",
   "pygments_lexer": "ipython3",
   "version": "3.11.6"
  },
  "orig_nbformat": 4,
  "vscode": {
   "interpreter": {
    "hash": "4294eaf33da23cadd990ffd463279f17381a7bc864b165a9c28f9466d72474df"
   }
  }
 },
 "nbformat": 4,
 "nbformat_minor": 2
}
